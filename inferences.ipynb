{
 "cells": [
  {
   "cell_type": "markdown",
   "id": "4676763f",
   "metadata": {},
   "source": [
    "# Experiments\n",
    "## Inferences of System 2 VS System 1"
   ]
  },
  {
   "cell_type": "code",
   "execution_count": null,
   "id": "43c7912f",
   "metadata": {},
   "outputs": [],
   "source": [
    "import pandas as pd                    # For file input/output\n",
    "import numpy as np                     # For vectorized math operations"
   ]
  },
  {
   "cell_type": "code",
   "execution_count": null,
   "id": "035c374c",
   "metadata": {},
   "outputs": [],
   "source": [
    "data_folder = \"data/clean\""
   ]
  },
  {
   "cell_type": "markdown",
   "id": "31d9fc55",
   "metadata": {},
   "source": [
    "### Tripadvisor Dataset"
   ]
  },
  {
   "cell_type": "code",
   "execution_count": null,
   "id": "cc5e93b1",
   "metadata": {},
   "outputs": [],
   "source": [
    "ds_trip = \"tripadvisor_10_980.csv\""
   ]
  },
  {
   "cell_type": "code",
   "execution_count": null,
   "id": "90d98d2f",
   "metadata": {},
   "outputs": [],
   "source": [
    "trip_df = pd.read_csv(f\"{data_folder}/{ds_trip}\")\n",
    "# Look at the first 5 rows of the data\n",
    "trip_df.head()"
   ]
  },
  {
   "cell_type": "code",
   "execution_count": null,
   "id": "0ee13fe5",
   "metadata": {},
   "outputs": [],
   "source": [
    "items = trip_df.columns.tolist()\n",
    "print(items)\n",
    "num_items = len(items)"
   ]
  },
  {
   "cell_type": "markdown",
   "id": "25792087",
   "metadata": {},
   "source": [
    "#### System 1 VS System 2"
   ]
  },
  {
   "cell_type": "code",
   "execution_count": null,
   "id": "ed2c84a6",
   "metadata": {},
   "outputs": [],
   "source": [
    "increments_trip = {}"
   ]
  },
  {
   "cell_type": "code",
   "execution_count": null,
   "id": "4c85aad7",
   "metadata": {},
   "outputs": [],
   "source": [
    "# Fix the value of the indifference threshold delta\n",
    "delta = 2"
   ]
  },
  {
   "cell_type": "code",
   "execution_count": null,
   "id": "6e678292",
   "metadata": {},
   "outputs": [],
   "source": [
    "g1_size = []\n",
    "g2_size = []\n",
    "for _, row in trip_df.iterrows():\n",
    "    scores = dict.fromkeys(range(num_items), 0)\n",
    "    edges_1 = 0\n",
    "    for i in range(num_items):\n",
    "        for j in range(i+1, num_items):\n",
    "            if row[items[i]] - row[items[j]] > delta:\n",
    "                scores[i]+=1\n",
    "                scores[j]-=1\n",
    "                edges_1+=1\n",
    "            elif row[items[j]] - row[items[i]] > delta:\n",
    "                scores[i]-=1\n",
    "                scores[j]+=1\n",
    "                edges_1+=1\n",
    "    g1_size.append(edges_1)\n",
    "    edges_2 = edges_1\n",
    "    for i in range(num_items):\n",
    "        for j in range(i+1, num_items):\n",
    "            if scores[i] > scores[j] and abs(row[items[i]] - row[items[j]]) <= delta:\n",
    "                edges_2+=1\n",
    "    g2_size.append(edges_2)"
   ]
  },
  {
   "cell_type": "code",
   "execution_count": null,
   "id": "24e42c16",
   "metadata": {},
   "outputs": [],
   "source": [
    "g1_size[:10]"
   ]
  },
  {
   "cell_type": "code",
   "execution_count": null,
   "id": "c244c974",
   "metadata": {},
   "outputs": [],
   "source": [
    "g2_size[:10]"
   ]
  },
  {
   "cell_type": "code",
   "execution_count": null,
   "id": "d4d3d7ee",
   "metadata": {},
   "outputs": [],
   "source": [
    "inc_delta = [g2_size[i]/max(g1_size[i],1) - 1 for i in range(len(g1_size))]\n",
    "avg_inc_delta = sum(inc_delta)/len(inc_delta)\n",
    "print(avg_inc_delta)"
   ]
  },
  {
   "cell_type": "code",
   "execution_count": null,
   "id": "1120b38b",
   "metadata": {},
   "outputs": [],
   "source": [
    "increments_trip[delta] = avg_inc_delta"
   ]
  },
  {
   "cell_type": "markdown",
   "id": "7588c94c",
   "metadata": {},
   "source": [
    "### Total number of inferences"
   ]
  },
  {
   "cell_type": "code",
   "execution_count": null,
   "id": "b6db23bf",
   "metadata": {},
   "outputs": [],
   "source": [
    "print(sum(inc_delta))"
   ]
  },
  {
   "cell_type": "markdown",
   "id": "9d31c013",
   "metadata": {},
   "source": [
    "### Average Fractional Increments for different values of delta"
   ]
  },
  {
   "cell_type": "code",
   "execution_count": null,
   "id": "04df5439",
   "metadata": {},
   "outputs": [],
   "source": [
    "print(increments_trip)"
   ]
  },
  {
   "cell_type": "markdown",
   "id": "31d9fc55",
   "metadata": {},
   "source": [
    "### Movielens Dataset"
   ]
  },
  {
   "cell_type": "code",
   "execution_count": null,
   "id": "cc5e93b1",
   "metadata": {},
   "outputs": [],
   "source": [
    "ds_movie = \"movies_20_174130.csv\""
   ]
  },
  {
   "cell_type": "code",
   "execution_count": null,
   "id": "90d98d2f",
   "metadata": {},
   "outputs": [],
   "source": [
    "movie_df = pd.read_csv(f\"{data_folder}/{ds_movie}\")\n",
    "# Look at the first 5 rows of the data\n",
    "movie_df.head()"
   ]
  },
  {
   "cell_type": "code",
   "execution_count": null,
   "id": "0ee13fe5",
   "metadata": {},
   "outputs": [],
   "source": [
    "items = movie_df.columns.tolist()\n",
    "print(items)\n",
    "num_items = len(items)"
   ]
  },
  {
   "cell_type": "markdown",
   "id": "25792087",
   "metadata": {},
   "source": [
    "#### System 1 VS System 2"
   ]
  },
  {
   "cell_type": "code",
   "execution_count": null,
   "id": "ed2c84a6",
   "metadata": {},
   "outputs": [],
   "source": [
    "increments_movie = {}"
   ]
  },
  {
   "cell_type": "code",
   "execution_count": null,
   "id": "4c85aad7",
   "metadata": {},
   "outputs": [],
   "source": [
    "# Fix the value of the indifference threshold delta\n",
    "delta = 1"
   ]
  },
  {
   "cell_type": "code",
   "execution_count": null,
   "id": "6e678292",
   "metadata": {},
   "outputs": [],
   "source": [
    "g1_size = []\n",
    "g2_size = []\n",
    "for _, row in movie_df.iterrows():\n",
    "    scores = dict.fromkeys(range(num_items), 0)\n",
    "    edges_1 = 0\n",
    "    for i in range(num_items):\n",
    "        for j in range(i+1, num_items):\n",
    "            if row[items[i]] != '-' and row[items[j]] != '-' and float(row[items[i]]) - float(row[items[j]]) > delta:\n",
    "                scores[i]+=1\n",
    "                scores[j]-=1\n",
    "                edges_1+=1\n",
    "            elif row[items[i]] != '-' and row[items[j]] != '-' and float(row[items[j]]) - float(row[items[i]]) > delta:\n",
    "                scores[i]-=1\n",
    "                scores[j]+=1\n",
    "                edges_1+=1\n",
    "    g1_size.append(edges_1)\n",
    "    edges_2 = edges_1\n",
    "    for i in range(num_items):\n",
    "        for j in range(i+1, num_items):\n",
    "            if row[items[i]] != '-' and row[items[j]] != '-' and scores[i] > scores[j] and abs(float(row[items[i]]) - float(row[items[j]])) <= delta:\n",
    "                edges_2+=1\n",
    "    g2_size.append(edges_2)"
   ]
  },
  {
   "cell_type": "code",
   "execution_count": null,
   "id": "24e42c16",
   "metadata": {},
   "outputs": [],
   "source": [
    "g1_size[:10]"
   ]
  },
  {
   "cell_type": "code",
   "execution_count": null,
   "id": "c244c974",
   "metadata": {},
   "outputs": [],
   "source": [
    "g2_size[:10]"
   ]
  },
  {
   "cell_type": "code",
   "execution_count": null,
   "id": "d4d3d7ee",
   "metadata": {},
   "outputs": [],
   "source": [
    "inc_delta = [g2_size[i]/max(g1_size[i],1) - 1 for i in range(len(g1_size))]\n",
    "avg_inc_delta = sum(inc_delta)/len(inc_delta)\n",
    "print(avg_inc_delta)"
   ]
  },
  {
   "cell_type": "code",
   "execution_count": null,
   "id": "1120b38b",
   "metadata": {},
   "outputs": [],
   "source": [
    "increments_movie[delta] = avg_inc_delta"
   ]
  },
  {
   "cell_type": "markdown",
   "id": "7588c94c",
   "metadata": {},
   "source": [
    "### Average Fractional Increments for different values of delta"
   ]
  },
  {
   "cell_type": "code",
   "execution_count": null,
   "id": "04df5439",
   "metadata": {},
   "outputs": [],
   "source": [
    "print(increments_movie)"
   ]
  },
  {
   "cell_type": "code",
   "execution_count": null,
   "id": "1525c0dc",
   "metadata": {},
   "outputs": [],
   "source": []
  }
 ],
 "metadata": {
  "kernelspec": {
   "display_name": "Python 3 (ipykernel)",
   "language": "python",
   "name": "python3"
  },
  "language_info": {
   "codemirror_mode": {
    "name": "ipython",
    "version": 3
   },
   "file_extension": ".py",
   "mimetype": "text/x-python",
   "name": "python",
   "nbconvert_exporter": "python",
   "pygments_lexer": "ipython3",
   "version": "3.9.13"
  }
 },
 "nbformat": 4,
 "nbformat_minor": 5
}

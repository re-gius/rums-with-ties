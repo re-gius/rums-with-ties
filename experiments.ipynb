{
 "cells": [
  {
   "cell_type": "markdown",
   "id": "4676763f",
   "metadata": {},
   "source": [
    "# Experiments"
   ]
  },
  {
   "cell_type": "code",
   "execution_count": null,
   "id": "43c7912f",
   "metadata": {},
   "outputs": [],
   "source": [
    "import pandas as pd                    # For file input/output\n",
    "import numpy as np                     # For vectorized math operations\n",
    "\n",
    "from sklearn.linear_model import LogisticRegression  # MNL\n",
    "from sklearn.metrics import accuracy_score"
   ]
  },
  {
   "cell_type": "code",
   "execution_count": null,
   "id": "035c374c",
   "metadata": {},
   "outputs": [],
   "source": [
    "base_folder = \"data/mnl_datasets\"\n",
    "scores_folder = \"data/slates\"\n",
    "train_folder = \"train\"\n",
    "test_folder = \"test\""
   ]
  },
  {
   "cell_type": "markdown",
   "id": "7a79ed0f",
   "metadata": {},
   "source": [
    "### Sushi Dataset"
   ]
  },
  {
   "cell_type": "code",
   "execution_count": null,
   "id": "282002ee",
   "metadata": {},
   "outputs": [],
   "source": [
    "ds_sushi_train = \"sushi_10_4310_3_1000_0.5_train.csv\""
   ]
  },
  {
   "cell_type": "code",
   "execution_count": null,
   "id": "0d27ddbc",
   "metadata": {},
   "outputs": [],
   "source": [
    "sushi_train_df = pd.read_csv(f\"{base_folder}/{train_folder}/{ds_sushi_train}\")\n",
    "# Look at the first 5 rows of the data\n",
    "sushi_train_df.head()"
   ]
  },
  {
   "cell_type": "code",
   "execution_count": null,
   "id": "af2e8f8f",
   "metadata": {},
   "outputs": [],
   "source": [
    "items = sushi_train_df.columns.tolist()[1:-1]\n",
    "print(items)"
   ]
  },
  {
   "cell_type": "markdown",
   "id": "11a9895c",
   "metadata": {},
   "source": [
    "#### Training"
   ]
  },
  {
   "cell_type": "code",
   "execution_count": null,
   "id": "4ce28707",
   "metadata": {},
   "outputs": [],
   "source": [
    "X_train = sushi_train_df.iloc[:, 1:-1].to_numpy()\n",
    "y_train = sushi_train_df.iloc[:,-1].to_numpy()"
   ]
  },
  {
   "cell_type": "code",
   "execution_count": null,
   "id": "0e619f32",
   "metadata": {},
   "outputs": [],
   "source": [
    "X_train[0]"
   ]
  },
  {
   "cell_type": "code",
   "execution_count": null,
   "id": "4ad33d1c",
   "metadata": {},
   "outputs": [],
   "source": [
    "y_train[:5]"
   ]
  },
  {
   "cell_type": "code",
   "execution_count": null,
   "id": "70cbd6c1",
   "metadata": {},
   "outputs": [],
   "source": [
    "clf = LogisticRegression(multi_class='multinomial',solver='saga',max_iter=1000).fit(X_train,y_train)\n",
    "clf.predict(X_train[:5, :])"
   ]
  },
  {
   "cell_type": "code",
   "execution_count": null,
   "id": "161d4291",
   "metadata": {},
   "outputs": [],
   "source": [
    "clf.predict_proba(X_train[:5, :])"
   ]
  },
  {
   "cell_type": "code",
   "execution_count": null,
   "id": "d161d099",
   "metadata": {},
   "outputs": [],
   "source": [
    "clf.score(X_train,y_train)"
   ]
  },
  {
   "cell_type": "markdown",
   "id": "939a1d66",
   "metadata": {},
   "source": [
    "#### Test"
   ]
  },
  {
   "cell_type": "code",
   "execution_count": null,
   "id": "18a2e223",
   "metadata": {},
   "outputs": [],
   "source": [
    "rumwt_folder = 'data/rumwt_pred'\n",
    "lp_rumwt_folder = 'data/lp_rumwt_pred'"
   ]
  },
  {
   "cell_type": "code",
   "execution_count": null,
   "id": "cb8da387",
   "metadata": {},
   "outputs": [],
   "source": [
    "ds_sushi_test = \"sushi_10_431_3_10000_0.5_test.csv\""
   ]
  },
  {
   "cell_type": "code",
   "execution_count": null,
   "id": "07afbcd3",
   "metadata": {},
   "outputs": [],
   "source": [
    "sushi_test_df = pd.read_csv(f\"{base_folder}/{test_folder}/{ds_sushi_test}\")\n",
    "# Look at the first 5 rows of the data\n",
    "sushi_test_df.head()"
   ]
  },
  {
   "cell_type": "code",
   "execution_count": null,
   "id": "6c797614",
   "metadata": {},
   "outputs": [],
   "source": [
    "X_test = sushi_test_df.iloc[:, 1:-1].to_numpy()\n",
    "y_test = sushi_test_df.iloc[:,-1].to_numpy()"
   ]
  },
  {
   "cell_type": "code",
   "execution_count": null,
   "id": "451841f2",
   "metadata": {},
   "outputs": [],
   "source": [
    "ds_winner_probs_train = 'sushi_10_431_3_10000_0.5_winner_probs_train.csv'\n",
    "ds_winners_train = ds_winner_probs_train[:-9] + 'test.csv'"
   ]
  },
  {
   "cell_type": "code",
   "execution_count": null,
   "id": "cf09fdf5",
   "metadata": {
    "scrolled": true
   },
   "outputs": [],
   "source": [
    "y_rumwt_probs_test = np.genfromtxt(f'{rumwt_folder}/{ds_winner_probs_train}', delimiter=',')\n",
    "y_rumwt_test = np.genfromtxt(f'{rumwt_folder}/{ds_winners_train}', delimiter=',')\n",
    "print(y_rumwt_probs_test[1])"
   ]
  },
  {
   "cell_type": "code",
   "execution_count": null,
   "id": "8996bc69",
   "metadata": {},
   "outputs": [],
   "source": [
    "ds_winner_probs_lp_train = ds_winner_probs_train[:-9] + 'rumwt.csv'\n",
    "ds_winners_lp_train = ds_winner_probs_train[:-9] + 'rumwt.csv'"
   ]
  },
  {
   "cell_type": "code",
   "execution_count": null,
   "id": "e10f56e8",
   "metadata": {},
   "outputs": [],
   "source": [
    "y_lp_rumwt_probs_test = np.genfromtxt(f'{lp_rumwt_folder}/{ds_winner_probs_lp_train}', delimiter=',')\n",
    "y_lp_rumwt_test = np.genfromtxt(f'{lp_rumwt_folder}/{ds_winners_lp_train}', delimiter=',')\n",
    "print(y_lp_rumwt_probs_test[1])"
   ]
  },
  {
   "cell_type": "code",
   "execution_count": null,
   "id": "0c53e7b3",
   "metadata": {},
   "outputs": [],
   "source": [
    "ds_winner_probs_test = ds_winner_probs_train[:-9] + 'test.csv'"
   ]
  },
  {
   "cell_type": "code",
   "execution_count": null,
   "id": "94c71187",
   "metadata": {},
   "outputs": [],
   "source": [
    "y_probs_test = np.genfromtxt(f'{rumwt_folder}/{ds_winner_probs_test}', delimiter=',')\n",
    "print(y_probs_test[1])"
   ]
  },
  {
   "cell_type": "code",
   "execution_count": null,
   "id": "a452a814",
   "metadata": {},
   "outputs": [],
   "source": [
    "y_mnl_probs_test = clf.predict_proba(X_test)"
   ]
  },
  {
   "cell_type": "code",
   "execution_count": null,
   "id": "b8ed3133",
   "metadata": {},
   "outputs": [],
   "source": [
    "def total_var(y, y_pred):\n",
    "    losses = []\n",
    "    num_items = y_pred.shape[1]\n",
    "    for i in range(y_pred.shape[0]):\n",
    "        loss=np.linalg(y,y_pred)\n",
    "        losses.append(loss)\n",
    "    return np.array(losses)"
   ]
  },
  {
   "cell_type": "code",
   "execution_count": null,
   "id": "e7c4f61e",
   "metadata": {},
   "outputs": [],
   "source": [
    "def cross_entropy(y, y_pred):\n",
    "    losses = []\n",
    "    num_items = y_pred.shape[1]\n",
    "    for i in range(y_pred.shape[0]):\n",
    "        loss=-np.sum(y[i]*np.log(y_pred[i]+0.000001))/num_items  # +eps for numerical stability\n",
    "        losses.append(loss)\n",
    "    return np.array(losses)"
   ]
  },
  {
   "cell_type": "code",
   "execution_count": null,
   "id": "64a42eaa",
   "metadata": {},
   "outputs": [],
   "source": [
    "def kl_div(y, y_pred):\n",
    "    losses = []\n",
    "    num_items = y_pred.shape[1]\n",
    "    for i in range(y_pred.shape[0]):\n",
    "        loss=(-np.sum(y[i]*np.log(y_pred[i]+0.000001))+np.sum(y[i]*np.log(y[i]+0.000001)))/num_items # +eps for numerical stability\n",
    "        losses.append(loss)\n",
    "    return np.array(losses)"
   ]
  },
  {
   "cell_type": "code",
   "execution_count": null,
   "id": "44e80b34",
   "metadata": {},
   "outputs": [],
   "source": [
    "l1 = np.linalg.norm(y_probs_test-y_mnl_probs_test,ord=1,axis=1)\n",
    "total_variation = np.amax(l1)\n",
    "mean_variation = np.mean(l1)\n",
    "median_variation = np.median(l1)\n",
    "print(total_variation)\n",
    "print(mean_variation)\n",
    "print(median_variation)"
   ]
  },
  {
   "cell_type": "code",
   "execution_count": null,
   "id": "5ec63243",
   "metadata": {},
   "outputs": [],
   "source": [
    "l1 = np.linalg.norm(y_probs_test-y_rumwt_probs_test,ord=1,axis=1)\n",
    "total_variation = np.amax(l1)\n",
    "mean_variation = np.mean(l1)\n",
    "median_variation = np.median(l1)\n",
    "print(total_variation)\n",
    "print(mean_variation)\n",
    "print(median_variation)"
   ]
  },
  {
   "cell_type": "code",
   "execution_count": null,
   "id": "9cab846b",
   "metadata": {},
   "outputs": [],
   "source": [
    "l1 = np.linalg.norm(y_probs_test-y_lp_rumwt_probs_test,ord=1,axis=1)\n",
    "total_variation = np.amax(l1)\n",
    "mean_variation = np.mean(l1)\n",
    "median_variation = np.median(l1)\n",
    "print(total_variation)\n",
    "print(mean_variation)\n",
    "print(median_variation)"
   ]
  },
  {
   "cell_type": "code",
   "execution_count": null,
   "id": "a60ec5c9",
   "metadata": {},
   "outputs": [],
   "source": [
    "kl = kl_div(y_probs_test, y_mnl_probs_test)\n",
    "total_ce = np.amax(kl)\n",
    "mean_ce = np.mean(kl)\n",
    "median_ce = np.median(kl)\n",
    "print(total_ce)\n",
    "print(mean_ce)\n",
    "print(median_ce)"
   ]
  },
  {
   "cell_type": "code",
   "execution_count": null,
   "id": "66fd4ff0",
   "metadata": {},
   "outputs": [],
   "source": [
    "kl = kl_div(y_probs_test, y_rumwt_probs_test)\n",
    "total_ce = np.amax(kl)\n",
    "mean_ce = np.mean(kl)\n",
    "median_ce = np.median(kl)\n",
    "print(total_ce)\n",
    "print(mean_ce)\n",
    "print(median_ce)"
   ]
  },
  {
   "cell_type": "code",
   "execution_count": null,
   "id": "2707d061",
   "metadata": {},
   "outputs": [],
   "source": [
    "kl = kl_div(y_probs_test, y_lp_rumwt_probs_test)\n",
    "total_ce = np.amax(kl)\n",
    "mean_ce = np.mean(kl)\n",
    "median_ce = np.median(kl)\n",
    "print(total_ce)\n",
    "print(mean_ce)\n",
    "print(median_ce)"
   ]
  },
  {
   "cell_type": "code",
   "execution_count": null,
   "id": "0beae14b",
   "metadata": {},
   "outputs": [],
   "source": [
    "y_mnl_test = clf.predict(X_test)"
   ]
  },
  {
   "cell_type": "code",
   "execution_count": null,
   "id": "11a5a63e",
   "metadata": {},
   "outputs": [],
   "source": [
    "accuracy_score(y_test, y_mnl_test)"
   ]
  },
  {
   "cell_type": "code",
   "execution_count": null,
   "id": "4eaa2e9d",
   "metadata": {},
   "outputs": [],
   "source": [
    "accuracy_score(y_test, y_rumwt_test)"
   ]
  },
  {
   "cell_type": "code",
   "execution_count": null,
   "id": "9c6f1e73",
   "metadata": {},
   "outputs": [],
   "source": [
    "accuracy_score(y_test, y_lp_rumwt_test)"
   ]
  },
  {
   "cell_type": "code",
   "execution_count": null,
   "id": "1e751f21",
   "metadata": {
    "scrolled": true
   },
   "outputs": [],
   "source": [
    "y_no_choice = np.max(y_test)*np.ones(y_test.shape)\n",
    "accuracy_score(y_test, y_no_choice)"
   ]
  },
  {
   "cell_type": "markdown",
   "id": "1ba8eeec",
   "metadata": {},
   "source": [
    "#### Top-ranked item Accuracy"
   ]
  },
  {
   "cell_type": "code",
   "execution_count": null,
   "id": "3d674a11",
   "metadata": {},
   "outputs": [],
   "source": [
    "def cast_char(c):\n",
    "    if c == '-':\n",
    "        return 0\n",
    "    return int(c)"
   ]
  },
  {
   "cell_type": "code",
   "execution_count": null,
   "id": "d3f107a0",
   "metadata": {},
   "outputs": [],
   "source": [
    "def compute_accuracy(y_pred, y_test_scores, delta=0.5):\n",
    "    score = 0.0\n",
    "    for i in range(len(y_pred)):\n",
    "        top_index = np.argmax(y_pred[i][:-1])\n",
    "        if y_test_scores[i][top_index] > max(y_test_scores[i]) - delta:\n",
    "            score += 1\n",
    "    return score/len(y_pred)"
   ]
  },
  {
   "cell_type": "code",
   "execution_count": null,
   "id": "1a88d19b",
   "metadata": {},
   "outputs": [],
   "source": [
    "sushi_test_scores_df = pd.read_csv(f\"{scores_folder}/{test_folder}/sushi_10_431_3_10000_test.csv\")\n",
    "# Look at the first 5 rows of the data\n",
    "sushi_test_scores_df.head()"
   ]
  },
  {
   "cell_type": "code",
   "execution_count": null,
   "id": "d08298f0",
   "metadata": {},
   "outputs": [],
   "source": [
    "y_test_scores_str = sushi_test_scores_df.to_numpy()\n",
    "y_test_scores = []\n",
    "for row in y_test_scores_str:\n",
    "    y_test_scores.append([cast_char(x) for x in row])\n",
    "print(y_test_scores[0])"
   ]
  },
  {
   "cell_type": "code",
   "execution_count": null,
   "id": "9178ecf0",
   "metadata": {},
   "outputs": [],
   "source": [
    "compute_accuracy(y_mnl_probs_test, y_test_scores)"
   ]
  },
  {
   "cell_type": "code",
   "execution_count": null,
   "id": "50124c8c",
   "metadata": {},
   "outputs": [],
   "source": [
    "compute_accuracy(y_rumwt_probs_test, y_test_scores)"
   ]
  },
  {
   "cell_type": "code",
   "execution_count": null,
   "id": "6ccdbaae",
   "metadata": {},
   "outputs": [],
   "source": [
    "compute_accuracy(y_lp_rumwt_probs_test, y_test_scores)"
   ]
  },
  {
   "cell_type": "code",
   "execution_count": null,
   "id": "2ec42ec0",
   "metadata": {},
   "outputs": [],
   "source": [
    "compute_accuracy(y_probs_test, y_test_scores)"
   ]
  },
  {
   "cell_type": "code",
   "execution_count": null,
   "id": "4411044d",
   "metadata": {},
   "outputs": [],
   "source": [
    "import random\n",
    "\n",
    "len_slate = len(y_test_scores[0])\n",
    "random_baseline_score = 0\n",
    "for row in y_test_scores:\n",
    "    slate = [i for i in range(len_slate) if row[i] > 0]\n",
    "    if not slate:\n",
    "        slate = [0]\n",
    "    random_choice = random.choice(slate)\n",
    "    if row[random_choice] > max(row) - 0.5:\n",
    "        random_baseline_score += 1\n",
    "print(random_baseline_score/len(y_test_scores))"
   ]
  },
  {
   "cell_type": "markdown",
   "id": "31d9fc55",
   "metadata": {},
   "source": [
    "### Tripadvisor Dataset"
   ]
  },
  {
   "cell_type": "code",
   "execution_count": null,
   "id": "cc5e93b1",
   "metadata": {},
   "outputs": [],
   "source": [
    "ds_trip_train = \"tripadvisor_10_980_4_10000_0.5_train.csv\""
   ]
  },
  {
   "cell_type": "code",
   "execution_count": null,
   "id": "90d98d2f",
   "metadata": {},
   "outputs": [],
   "source": [
    "trip_train_df = pd.read_csv(f\"{base_folder}/{train_folder}/{ds_trip_train}\")\n",
    "# Look at the first 5 rows of the data\n",
    "trip_train_df.head()"
   ]
  },
  {
   "cell_type": "code",
   "execution_count": null,
   "id": "0ee13fe5",
   "metadata": {},
   "outputs": [],
   "source": [
    "items = trip_train_df.columns.tolist()[1:-1]\n",
    "print(items)"
   ]
  },
  {
   "cell_type": "markdown",
   "id": "25792087",
   "metadata": {},
   "source": [
    "#### Training"
   ]
  },
  {
   "cell_type": "code",
   "execution_count": null,
   "id": "6e678292",
   "metadata": {},
   "outputs": [],
   "source": [
    "X_train = trip_train_df.iloc[:, 1:-1].to_numpy()\n",
    "y_train = trip_train_df.iloc[:,-1].to_numpy()"
   ]
  },
  {
   "cell_type": "code",
   "execution_count": null,
   "id": "24e42c16",
   "metadata": {},
   "outputs": [],
   "source": [
    "X_train[0]"
   ]
  },
  {
   "cell_type": "code",
   "execution_count": null,
   "id": "c244c974",
   "metadata": {},
   "outputs": [],
   "source": [
    "y_train[:5]"
   ]
  },
  {
   "cell_type": "code",
   "execution_count": null,
   "id": "d4d3d7ee",
   "metadata": {},
   "outputs": [],
   "source": [
    "clf = LogisticRegression(multi_class='multinomial',solver='saga',max_iter=1000).fit(X_train,y_train)\n",
    "clf.predict(X_train[:5, :])"
   ]
  },
  {
   "cell_type": "code",
   "execution_count": null,
   "id": "04df5439",
   "metadata": {},
   "outputs": [],
   "source": [
    "clf.predict_proba(X_train[:5, :])"
   ]
  },
  {
   "cell_type": "code",
   "execution_count": null,
   "id": "76b742f7",
   "metadata": {},
   "outputs": [],
   "source": [
    "clf.score(X_train,y_train)"
   ]
  },
  {
   "cell_type": "markdown",
   "id": "335d549c",
   "metadata": {},
   "source": [
    "#### Test"
   ]
  },
  {
   "cell_type": "code",
   "execution_count": null,
   "id": "8b1bbe64",
   "metadata": {},
   "outputs": [],
   "source": [
    "ds_trip_test = \"tripadvisor_10_98_4_10000_0.5_test.csv\""
   ]
  },
  {
   "cell_type": "code",
   "execution_count": null,
   "id": "e5e69b35",
   "metadata": {},
   "outputs": [],
   "source": [
    "trip_test_df = pd.read_csv(f\"{base_folder}/{test_folder}/{ds_trip_test}\")\n",
    "# Look at the first 5 rows of the data\n",
    "trip_test_df.head()"
   ]
  },
  {
   "cell_type": "code",
   "execution_count": null,
   "id": "5e4d857e",
   "metadata": {},
   "outputs": [],
   "source": [
    "X_test = trip_test_df.iloc[:, 1:-1].to_numpy()\n",
    "y_test = trip_test_df.iloc[:,-1].to_numpy()"
   ]
  },
  {
   "cell_type": "code",
   "execution_count": null,
   "id": "498808f0",
   "metadata": {},
   "outputs": [],
   "source": [
    "ds_winner_probs_train = ds_trip_test[:-8] + 'winner_probs_train.csv'\n",
    "ds_winners_train = ds_trip_test[:-8] + 'winners_train.csv'"
   ]
  },
  {
   "cell_type": "code",
   "execution_count": null,
   "id": "0b1a9ee6",
   "metadata": {},
   "outputs": [],
   "source": [
    "y_rumwt_probs_test = np.genfromtxt(f'{rumwt_folder}/{ds_winner_probs_train}', delimiter=',')\n",
    "y_rumwt_test = np.genfromtxt(f'{rumwt_folder}/{ds_winners_train}', delimiter=',')"
   ]
  },
  {
   "cell_type": "code",
   "execution_count": null,
   "id": "36802dce",
   "metadata": {},
   "outputs": [],
   "source": [
    "ds_winner_probs_lp_train = ds_trip_test[:-8] + 'winner_probs_rumwt.csv'\n",
    "ds_winners_lp_train = ds_trip_test[:-8] + 'winners_rumwt.csv'"
   ]
  },
  {
   "cell_type": "code",
   "execution_count": null,
   "id": "1079fd42",
   "metadata": {},
   "outputs": [],
   "source": [
    "y_lp_rumwt_probs_test = np.genfromtxt(f'{lp_rumwt_folder}/{ds_winner_probs_lp_train}', delimiter=',')\n",
    "y_lp_rumwt_test = np.genfromtxt(f'{lp_rumwt_folder}/{ds_winners_lp_train}', delimiter=',')\n",
    "print(y_lp_rumwt_probs_test[1])"
   ]
  },
  {
   "cell_type": "code",
   "execution_count": null,
   "id": "d39dfa65",
   "metadata": {},
   "outputs": [],
   "source": [
    "ds_winner_probs_test = ds_trip_test[:-8] + 'winner_probs_test.csv'"
   ]
  },
  {
   "cell_type": "code",
   "execution_count": null,
   "id": "479d3d5a",
   "metadata": {},
   "outputs": [],
   "source": [
    "y_probs_test = np.genfromtxt(f'{rumwt_folder}/{ds_winner_probs_test}', delimiter=',')\n",
    "print(y_probs_test[0])\n",
    "print(y_rumwt_probs_test[0])"
   ]
  },
  {
   "cell_type": "code",
   "execution_count": null,
   "id": "6228a5ad",
   "metadata": {},
   "outputs": [],
   "source": [
    "y_mnl_probs_test = clf.predict_proba(X_test)"
   ]
  },
  {
   "cell_type": "code",
   "execution_count": null,
   "id": "31010162",
   "metadata": {},
   "outputs": [],
   "source": [
    "l1 = np.linalg.norm(y_probs_test-y_mnl_probs_test,ord=1,axis=1)\n",
    "total_variation = np.amax(l1)\n",
    "mean_variation = np.mean(l1)\n",
    "median_variation = np.median(l1)\n",
    "print(total_variation)\n",
    "print(mean_variation)\n",
    "print(median_variation)"
   ]
  },
  {
   "cell_type": "code",
   "execution_count": null,
   "id": "2a2c72c7",
   "metadata": {},
   "outputs": [],
   "source": [
    "l1 = np.linalg.norm(y_probs_test-y_rumwt_probs_test,ord=1,axis=1)\n",
    "total_variation = np.amax(l1)\n",
    "mean_variation = np.mean(l1)\n",
    "median_variation = np.median(l1)\n",
    "print(total_variation)\n",
    "print(mean_variation)\n",
    "print(median_variation)"
   ]
  },
  {
   "cell_type": "code",
   "execution_count": null,
   "id": "21ad665b",
   "metadata": {},
   "outputs": [],
   "source": [
    "l1 = np.linalg.norm(y_probs_test-y_lp_rumwt_probs_test,ord=1,axis=1)\n",
    "total_variation = np.amax(l1)\n",
    "mean_variation = np.mean(l1)\n",
    "median_variation = np.median(l1)\n",
    "print(total_variation)\n",
    "print(mean_variation)\n",
    "print(median_variation)"
   ]
  },
  {
   "cell_type": "code",
   "execution_count": null,
   "id": "fffde050",
   "metadata": {
    "scrolled": true
   },
   "outputs": [],
   "source": [
    "kl = kl_div(y_probs_test, y_mnl_probs_test)\n",
    "total_ce = np.amax(kl)\n",
    "mean_ce = np.mean(kl)\n",
    "median_ce = np.median(kl)\n",
    "print(total_ce)\n",
    "print(mean_ce)\n",
    "print(median_ce)"
   ]
  },
  {
   "cell_type": "code",
   "execution_count": null,
   "id": "6bf32b52",
   "metadata": {},
   "outputs": [],
   "source": [
    "kl = kl_div(y_probs_test, y_rumwt_probs_test)\n",
    "total_ce = np.amax(kl)\n",
    "mean_ce = np.mean(kl)\n",
    "median_ce = np.median(kl)\n",
    "print(total_ce)\n",
    "print(mean_ce)\n",
    "print(median_ce)"
   ]
  },
  {
   "cell_type": "code",
   "execution_count": null,
   "id": "0537f0e0",
   "metadata": {},
   "outputs": [],
   "source": [
    "kl = kl_div(y_probs_test, y_lp_rumwt_probs_test)\n",
    "total_ce = np.amax(kl)\n",
    "mean_ce = np.mean(kl)\n",
    "median_ce = np.median(kl)\n",
    "print(total_ce)\n",
    "print(mean_ce)\n",
    "print(median_ce)"
   ]
  },
  {
   "cell_type": "code",
   "execution_count": null,
   "id": "c776e2a0",
   "metadata": {},
   "outputs": [],
   "source": [
    "y_mnl_test = clf.predict(X_test)"
   ]
  },
  {
   "cell_type": "code",
   "execution_count": null,
   "id": "c02d7763",
   "metadata": {},
   "outputs": [],
   "source": [
    "accuracy_score(y_test, y_mnl_test)"
   ]
  },
  {
   "cell_type": "code",
   "execution_count": null,
   "id": "f2d937f9",
   "metadata": {
    "scrolled": true
   },
   "outputs": [],
   "source": [
    "accuracy_score(y_test, y_rumwt_test)"
   ]
  },
  {
   "cell_type": "code",
   "execution_count": null,
   "id": "047c4212",
   "metadata": {
    "scrolled": true
   },
   "outputs": [],
   "source": [
    "accuracy_score(y_test, y_lp_rumwt_test)"
   ]
  },
  {
   "cell_type": "code",
   "execution_count": null,
   "id": "3064318a",
   "metadata": {},
   "outputs": [],
   "source": [
    "y_no_choice = np.max(y_test)*np.ones(y_test.shape)\n",
    "accuracy_score(y_test, y_no_choice)"
   ]
  },
  {
   "cell_type": "markdown",
   "id": "e0fe1f9b",
   "metadata": {},
   "source": [
    "#### Top-ranked item Accuracy"
   ]
  },
  {
   "cell_type": "code",
   "execution_count": null,
   "id": "03ad675d",
   "metadata": {},
   "outputs": [],
   "source": [
    "def cast_char(c):\n",
    "    if c == '-':\n",
    "        return 0\n",
    "    return float(c)"
   ]
  },
  {
   "cell_type": "code",
   "execution_count": null,
   "id": "4ba3ec9d",
   "metadata": {},
   "outputs": [],
   "source": [
    "def compute_accuracy(y_pred, y_test_scores, delta=0.25):\n",
    "    score = 0.0\n",
    "    for i in range(len(y_pred)):\n",
    "        top_index = np.argmax(y_pred[i][:-1])\n",
    "        if y_test_scores[i][top_index] > max(y_test_scores[i]) - delta:\n",
    "            score += 1\n",
    "    return score/len(y_pred)"
   ]
  },
  {
   "cell_type": "code",
   "execution_count": null,
   "id": "2190a492",
   "metadata": {},
   "outputs": [],
   "source": [
    "trip_test_scores_df = pd.read_csv(f\"{scores_folder}/{test_folder}/tripadvisor_10_98_4_10000_test.csv\")\n",
    "# Look at the first 5 rows of the data\n",
    "trip_test_scores_df.head()"
   ]
  },
  {
   "cell_type": "code",
   "execution_count": null,
   "id": "d2d81b0b",
   "metadata": {},
   "outputs": [],
   "source": [
    "y_test_scores_str = trip_test_scores_df.to_numpy()\n",
    "y_test_scores = []\n",
    "for row in y_test_scores_str:\n",
    "    y_test_scores.append([cast_char(x) for x in row])\n",
    "print(y_test_scores[0])"
   ]
  },
  {
   "cell_type": "code",
   "execution_count": null,
   "id": "510164d5",
   "metadata": {},
   "outputs": [],
   "source": [
    "compute_accuracy(y_mnl_probs_test, y_test_scores)"
   ]
  },
  {
   "cell_type": "code",
   "execution_count": null,
   "id": "ac92a471",
   "metadata": {},
   "outputs": [],
   "source": [
    "compute_accuracy(y_rumwt_probs_test, y_test_scores)"
   ]
  },
  {
   "cell_type": "code",
   "execution_count": null,
   "id": "9d216f69",
   "metadata": {},
   "outputs": [],
   "source": [
    "compute_accuracy(y_lp_rumwt_probs_test, y_test_scores)"
   ]
  },
  {
   "cell_type": "code",
   "execution_count": null,
   "id": "93210cae",
   "metadata": {},
   "outputs": [],
   "source": [
    "compute_accuracy(y_probs_test, y_test_scores)"
   ]
  },
  {
   "cell_type": "code",
   "execution_count": null,
   "id": "a5e40f54",
   "metadata": {},
   "outputs": [],
   "source": [
    "import random\n",
    "\n",
    "len_slate = len(y_test_scores[0])\n",
    "random_baseline_score = 0\n",
    "for row in y_test_scores:\n",
    "    slate = [i for i in range(len_slate) if row[i] > 0]\n",
    "    if not slate:\n",
    "        slate = [0]\n",
    "    random_choice = random.choice(slate)\n",
    "    if row[random_choice] > max(row) - 0.5:\n",
    "        random_baseline_score += 1\n",
    "print(random_baseline_score/len(y_test_scores))"
   ]
  },
  {
   "cell_type": "markdown",
   "id": "4c286290",
   "metadata": {},
   "source": [
    "### Young People Spending Habits Dataset"
   ]
  },
  {
   "cell_type": "code",
   "execution_count": null,
   "id": "0fe176fa",
   "metadata": {},
   "outputs": [],
   "source": [
    "ds_young_train = \"young_people_spendinghabits_7_1010_2_1000_0.5_train.csv\""
   ]
  },
  {
   "cell_type": "code",
   "execution_count": null,
   "id": "f11c0965",
   "metadata": {},
   "outputs": [],
   "source": [
    "young_train_df = pd.read_csv(f\"{base_folder}/{train_folder}/{ds_young_train}\")\n",
    "# Look at the first 5 rows of the data\n",
    "young_train_df.head()"
   ]
  },
  {
   "cell_type": "code",
   "execution_count": null,
   "id": "9ad96ac2",
   "metadata": {},
   "outputs": [],
   "source": [
    "items = young_train_df.columns.tolist()[1:-1]\n",
    "print(items)"
   ]
  },
  {
   "cell_type": "markdown",
   "id": "4c253587",
   "metadata": {},
   "source": [
    "#### Training"
   ]
  },
  {
   "cell_type": "code",
   "execution_count": null,
   "id": "93b52ecb",
   "metadata": {},
   "outputs": [],
   "source": [
    "X_train = young_train_df.iloc[:, 1:-1].to_numpy()\n",
    "y_train = young_train_df.iloc[:,-1].to_numpy()"
   ]
  },
  {
   "cell_type": "code",
   "execution_count": null,
   "id": "44b38704",
   "metadata": {},
   "outputs": [],
   "source": [
    "X_train[0]"
   ]
  },
  {
   "cell_type": "code",
   "execution_count": null,
   "id": "78a2c1ff",
   "metadata": {},
   "outputs": [],
   "source": [
    "y_train[:5]"
   ]
  },
  {
   "cell_type": "code",
   "execution_count": null,
   "id": "0c79b311",
   "metadata": {},
   "outputs": [],
   "source": [
    "clf = LogisticRegression(multi_class='multinomial',solver='saga',max_iter=1000).fit(X_train,y_train)\n",
    "clf.predict(X_train[:5, :])"
   ]
  },
  {
   "cell_type": "code",
   "execution_count": null,
   "id": "cc5a90dd",
   "metadata": {},
   "outputs": [],
   "source": [
    "clf.predict_proba(X_train[:5, :])"
   ]
  },
  {
   "cell_type": "code",
   "execution_count": null,
   "id": "4c4e9fa0",
   "metadata": {},
   "outputs": [],
   "source": [
    "clf.score(X_train,y_train)"
   ]
  },
  {
   "cell_type": "markdown",
   "id": "49c324fe",
   "metadata": {},
   "source": [
    "#### Test"
   ]
  },
  {
   "cell_type": "code",
   "execution_count": null,
   "id": "db92f59f",
   "metadata": {},
   "outputs": [],
   "source": [
    "ds_young_test = \"young_people_spendinghabits_7_101_2_10000_0.5_test.csv\""
   ]
  },
  {
   "cell_type": "code",
   "execution_count": null,
   "id": "5b9d5680",
   "metadata": {},
   "outputs": [],
   "source": [
    "young_test_df = pd.read_csv(f\"{base_folder}/{test_folder}/{ds_young_test}\")\n",
    "# Look at the first 5 rows of the data\n",
    "young_test_df.head()"
   ]
  },
  {
   "cell_type": "code",
   "execution_count": null,
   "id": "b25c25a7",
   "metadata": {},
   "outputs": [],
   "source": [
    "X_test = young_test_df.iloc[:, 1:-1].to_numpy()\n",
    "y_test = young_test_df.iloc[:,-1].to_numpy()"
   ]
  },
  {
   "cell_type": "code",
   "execution_count": null,
   "id": "8f3274b5",
   "metadata": {},
   "outputs": [],
   "source": [
    "ds_winner_probs_train = ds_young_test[:-8] + 'winner_probs_train.csv'\n",
    "ds_winners_train = ds_young_test[:-8] + 'winners_train.csv'"
   ]
  },
  {
   "cell_type": "code",
   "execution_count": null,
   "id": "28e72535",
   "metadata": {},
   "outputs": [],
   "source": [
    "y_rumwt_probs_test = np.genfromtxt(f'{rumwt_folder}/{ds_winner_probs_train}', delimiter=',')\n",
    "y_rumwt_test = np.genfromtxt(f'{rumwt_folder}/{ds_winners_train}', delimiter=',')\n",
    "print(y_rumwt_probs_test[1])"
   ]
  },
  {
   "cell_type": "code",
   "execution_count": null,
   "id": "d9d6c179",
   "metadata": {},
   "outputs": [],
   "source": [
    "ds_winner_probs_lp_train = ds_young_test[:-8] + 'winner_probs_rumwt.csv'\n",
    "ds_winners_lp_train = ds_young_test[:-8] + 'winners_rumwt.csv'"
   ]
  },
  {
   "cell_type": "code",
   "execution_count": null,
   "id": "d7dc4af5",
   "metadata": {},
   "outputs": [],
   "source": [
    "y_lp_rumwt_probs_test = np.genfromtxt(f'{lp_rumwt_folder}/{ds_winner_probs_lp_train}', delimiter=',')\n",
    "y_lp_rumwt_test = np.genfromtxt(f'{lp_rumwt_folder}/{ds_winners_lp_train}', delimiter=',')\n",
    "print(y_lp_rumwt_probs_test[1])"
   ]
  },
  {
   "cell_type": "code",
   "execution_count": null,
   "id": "56ca77dd",
   "metadata": {},
   "outputs": [],
   "source": [
    "ds_winner_probs_test = ds_young_test[:-8] + 'winner_probs_test.csv'"
   ]
  },
  {
   "cell_type": "code",
   "execution_count": null,
   "id": "c12a6259",
   "metadata": {},
   "outputs": [],
   "source": [
    "y_probs_test = np.genfromtxt(f'{rumwt_folder}/{ds_winner_probs_test}', delimiter=',')"
   ]
  },
  {
   "cell_type": "code",
   "execution_count": null,
   "id": "78a6264d",
   "metadata": {},
   "outputs": [],
   "source": [
    "y_mnl_probs_test = clf.predict_proba(X_test)"
   ]
  },
  {
   "cell_type": "code",
   "execution_count": null,
   "id": "595eb57d",
   "metadata": {},
   "outputs": [],
   "source": [
    "l1 = np.linalg.norm(y_probs_test-y_mnl_probs_test,ord=1,axis=1)\n",
    "total_variation = np.amax(l1)\n",
    "mean_variation = np.mean(l1)\n",
    "median_variation = np.median(l1)\n",
    "print(total_variation)\n",
    "print(mean_variation)\n",
    "print(median_variation)"
   ]
  },
  {
   "cell_type": "code",
   "execution_count": null,
   "id": "a4d1dfa5",
   "metadata": {},
   "outputs": [],
   "source": [
    "l1 = np.linalg.norm(y_probs_test-y_rumwt_probs_test,ord=1,axis=1)\n",
    "total_variation = np.amax(l1)\n",
    "mean_variation = np.mean(l1)\n",
    "median_variation = np.median(l1)\n",
    "print(total_variation)\n",
    "print(mean_variation)\n",
    "print(median_variation)"
   ]
  },
  {
   "cell_type": "code",
   "execution_count": null,
   "id": "455249c6",
   "metadata": {},
   "outputs": [],
   "source": [
    "l1 = np.linalg.norm(y_probs_test-y_lp_rumwt_probs_test,ord=1,axis=1)\n",
    "total_variation = np.amax(l1)\n",
    "mean_variation = np.mean(l1)\n",
    "median_variation = np.median(l1)\n",
    "print(total_variation)\n",
    "print(mean_variation)\n",
    "print(median_variation)"
   ]
  },
  {
   "cell_type": "code",
   "execution_count": null,
   "id": "9e43cdb1",
   "metadata": {
    "scrolled": true
   },
   "outputs": [],
   "source": [
    "kl = kl_div(y_probs_test, y_mnl_probs_test)\n",
    "total_ce = np.amax(kl)\n",
    "mean_ce = np.mean(kl)\n",
    "median_ce = np.median(kl)\n",
    "print(total_ce)\n",
    "print(mean_ce)\n",
    "print(median_ce)"
   ]
  },
  {
   "cell_type": "code",
   "execution_count": null,
   "id": "9c09cfa7",
   "metadata": {},
   "outputs": [],
   "source": [
    "kl = kl_div(y_probs_test, y_rumwt_probs_test)\n",
    "total_ce = np.amax(kl)\n",
    "mean_ce = np.mean(kl)\n",
    "median_ce = np.median(kl)\n",
    "print(total_ce)\n",
    "print(mean_ce)\n",
    "print(median_ce)"
   ]
  },
  {
   "cell_type": "code",
   "execution_count": null,
   "id": "6bb0616c",
   "metadata": {},
   "outputs": [],
   "source": [
    "kl = kl_div(y_probs_test, y_lp_rumwt_probs_test)\n",
    "total_ce = np.amax(kl)\n",
    "mean_ce = np.mean(kl)\n",
    "median_ce = np.median(kl)\n",
    "print(total_ce)\n",
    "print(mean_ce)\n",
    "print(median_ce)"
   ]
  },
  {
   "cell_type": "code",
   "execution_count": null,
   "id": "039ff76b",
   "metadata": {},
   "outputs": [],
   "source": [
    "y_mnl_test = clf.predict(X_test)"
   ]
  },
  {
   "cell_type": "code",
   "execution_count": null,
   "id": "4460803f",
   "metadata": {},
   "outputs": [],
   "source": [
    "accuracy_score(y_test, y_mnl_test)"
   ]
  },
  {
   "cell_type": "code",
   "execution_count": null,
   "id": "7a774c5a",
   "metadata": {
    "scrolled": true
   },
   "outputs": [],
   "source": [
    "accuracy_score(y_test, y_rumwt_test)"
   ]
  },
  {
   "cell_type": "code",
   "execution_count": null,
   "id": "8c487bd1",
   "metadata": {},
   "outputs": [],
   "source": [
    "accuracy_score(y_test, y_lp_rumwt_test)"
   ]
  },
  {
   "cell_type": "code",
   "execution_count": null,
   "id": "70a35dcb",
   "metadata": {},
   "outputs": [],
   "source": [
    "y_no_choice = np.max(y_test)*np.ones(y_test.shape)\n",
    "accuracy_score(y_test, y_no_choice)"
   ]
  },
  {
   "cell_type": "markdown",
   "id": "356ff9bd",
   "metadata": {},
   "source": [
    "#### Top-ranked item Accuracy"
   ]
  },
  {
   "cell_type": "code",
   "execution_count": null,
   "id": "20617ecf",
   "metadata": {},
   "outputs": [],
   "source": [
    "def cast_char(c):\n",
    "    if c == '-':\n",
    "        return 0\n",
    "    return float(c)"
   ]
  },
  {
   "cell_type": "code",
   "execution_count": null,
   "id": "77ee56bd",
   "metadata": {},
   "outputs": [],
   "source": [
    "def compute_accuracy(y_pred, y_test_scores, delta=0.5):\n",
    "    score = 0.0\n",
    "    for i in range(len(y_pred)):\n",
    "        top_index = np.argmax(y_pred[i][:-1])\n",
    "        if y_test_scores[i][top_index] > max(y_test_scores[i]) - delta:\n",
    "            score += 1\n",
    "    return score/len(y_pred)"
   ]
  },
  {
   "cell_type": "code",
   "execution_count": null,
   "id": "e5a4a4a5",
   "metadata": {},
   "outputs": [],
   "source": [
    "ypsh_test_scores_df = pd.read_csv(f\"{scores_folder}/{test_folder}/young_people_spendinghabits_7_101_2_10000_test.csv\")\n",
    "# Look at the first 5 rows of the data\n",
    "ypsh_test_scores_df.head()"
   ]
  },
  {
   "cell_type": "code",
   "execution_count": null,
   "id": "120f3232",
   "metadata": {},
   "outputs": [],
   "source": [
    "y_test_scores_str = ypsh_test_scores_df.to_numpy()\n",
    "y_test_scores = []\n",
    "for row in y_test_scores_str:\n",
    "    y_test_scores.append([cast_char(x) for x in row])\n",
    "print(y_test_scores[0])"
   ]
  },
  {
   "cell_type": "code",
   "execution_count": null,
   "id": "fbfb1a25",
   "metadata": {},
   "outputs": [],
   "source": [
    "compute_accuracy(y_mnl_probs_test, y_test_scores)"
   ]
  },
  {
   "cell_type": "code",
   "execution_count": null,
   "id": "f53d2d12",
   "metadata": {},
   "outputs": [],
   "source": [
    "compute_accuracy(y_rumwt_probs_test, y_test_scores)"
   ]
  },
  {
   "cell_type": "code",
   "execution_count": null,
   "id": "9583cf2b",
   "metadata": {},
   "outputs": [],
   "source": [
    "compute_accuracy(y_lp_rumwt_probs_test, y_test_scores)"
   ]
  },
  {
   "cell_type": "code",
   "execution_count": null,
   "id": "1fe05785",
   "metadata": {},
   "outputs": [],
   "source": [
    "compute_accuracy(y_probs_test, y_test_scores)"
   ]
  },
  {
   "cell_type": "code",
   "execution_count": null,
   "id": "92cff11a",
   "metadata": {},
   "outputs": [],
   "source": [
    "import random\n",
    "\n",
    "len_slate = len(y_test_scores[0])\n",
    "random_baseline_score = 0\n",
    "for row in y_test_scores:\n",
    "    slate = [i for i in range(len_slate) if row[i] > 0]\n",
    "    if not slate:\n",
    "        slate = [0]\n",
    "    random_choice = random.choice(slate)\n",
    "    if row[random_choice] > max(row) - 0.5:\n",
    "        random_baseline_score += 1\n",
    "print(random_baseline_score/len(y_test_scores))"
   ]
  },
  {
   "cell_type": "markdown",
   "id": "a1a19897",
   "metadata": {},
   "source": [
    "### Movie(lens) Dataset"
   ]
  },
  {
   "cell_type": "code",
   "execution_count": null,
   "id": "0263897a",
   "metadata": {},
   "outputs": [],
   "source": [
    "ds_movie_train = \"movies_20_174130_5_100000_0.25_train.csv\""
   ]
  },
  {
   "cell_type": "code",
   "execution_count": null,
   "id": "b394c2d8",
   "metadata": {},
   "outputs": [],
   "source": [
    "movie_train_df = pd.read_csv(f\"{base_folder}/{train_folder}/{ds_movie_train}\")\n",
    "# Look at the first 5 rows of the data\n",
    "movie_train_df.head()"
   ]
  },
  {
   "cell_type": "code",
   "execution_count": null,
   "id": "ef74aaf2",
   "metadata": {},
   "outputs": [],
   "source": [
    "items = movie_train_df.columns.tolist()[1:-1]\n",
    "print(items)"
   ]
  },
  {
   "cell_type": "markdown",
   "id": "9f5fadab",
   "metadata": {},
   "source": [
    "#### Training"
   ]
  },
  {
   "cell_type": "code",
   "execution_count": null,
   "id": "09af89b3",
   "metadata": {},
   "outputs": [],
   "source": [
    "X_train = movie_train_df.iloc[:, 1:-1].to_numpy()\n",
    "y_train = movie_train_df.iloc[:,-1].to_numpy()"
   ]
  },
  {
   "cell_type": "code",
   "execution_count": null,
   "id": "97bd63c4",
   "metadata": {},
   "outputs": [],
   "source": [
    "X_train[0]"
   ]
  },
  {
   "cell_type": "code",
   "execution_count": null,
   "id": "0672294c",
   "metadata": {},
   "outputs": [],
   "source": [
    "y_train[:5]"
   ]
  },
  {
   "cell_type": "code",
   "execution_count": null,
   "id": "f978aeb1",
   "metadata": {},
   "outputs": [],
   "source": [
    "clf = LogisticRegression(multi_class='multinomial',solver='saga',max_iter=1000).fit(X_train,y_train)\n",
    "clf.predict(X_train[:5, :])"
   ]
  },
  {
   "cell_type": "code",
   "execution_count": null,
   "id": "01414887",
   "metadata": {},
   "outputs": [],
   "source": [
    "clf.predict_proba(X_train[:5, :])"
   ]
  },
  {
   "cell_type": "code",
   "execution_count": null,
   "id": "ad42e019",
   "metadata": {},
   "outputs": [],
   "source": [
    "clf.score(X_train,y_train)"
   ]
  },
  {
   "cell_type": "markdown",
   "id": "7cb88ae3",
   "metadata": {},
   "source": [
    "#### Test"
   ]
  },
  {
   "cell_type": "code",
   "execution_count": null,
   "id": "0e49b54e",
   "metadata": {},
   "outputs": [],
   "source": [
    "ds_movie_test = \"movies_20_17413_5_10000_0.25_test.csv\""
   ]
  },
  {
   "cell_type": "code",
   "execution_count": null,
   "id": "d5f36a8d",
   "metadata": {},
   "outputs": [],
   "source": [
    "movie_test_df = pd.read_csv(f\"{base_folder}/{test_folder}/{ds_movie_test}\")\n",
    "# Look at the first 5 rows of the data\n",
    "movie_test_df.head()"
   ]
  },
  {
   "cell_type": "code",
   "execution_count": null,
   "id": "cd843db1",
   "metadata": {},
   "outputs": [],
   "source": [
    "X_test = movie_test_df.iloc[:, 1:-1].to_numpy()\n",
    "y_test = movie_test_df.iloc[:,-1].to_numpy()"
   ]
  },
  {
   "cell_type": "code",
   "execution_count": null,
   "id": "7ae791bd",
   "metadata": {},
   "outputs": [],
   "source": [
    "ds_winner_probs_train = ds_movie_test[:-8] + 'winner_probs_train.csv'\n",
    "ds_winners_train = ds_movie_test[:-8] + 'winners_train.csv'"
   ]
  },
  {
   "cell_type": "code",
   "execution_count": null,
   "id": "a5b26d7e",
   "metadata": {},
   "outputs": [],
   "source": [
    "y_rumwt_probs_test = np.genfromtxt(f'{rumwt_folder}/{ds_winner_probs_train}', delimiter=',')\n",
    "y_rumwt_test = np.genfromtxt(f'{rumwt_folder}/{ds_winners_train}', delimiter=',')\n",
    "print(y_rumwt_probs_test[1])"
   ]
  },
  {
   "cell_type": "code",
   "execution_count": null,
   "id": "0c809716",
   "metadata": {},
   "outputs": [],
   "source": [
    "ds_winner_probs_lp_train = ds_movie_test[:-8] + 'winner_probs_rumwt.csv'\n",
    "ds_winners_lp_train = ds_movie_test[:-8] + 'winners_rumwt.csv'"
   ]
  },
  {
   "cell_type": "code",
   "execution_count": null,
   "id": "2eb6c14f",
   "metadata": {},
   "outputs": [],
   "source": [
    "y_lp_rumwt_probs_test = np.genfromtxt(f'{lp_rumwt_folder}/{ds_winner_probs_lp_train}', delimiter=',')\n",
    "y_lp_rumwt_test = np.genfromtxt(f'{lp_rumwt_folder}/{ds_winners_lp_train}', delimiter=',')\n",
    "print(y_lp_rumwt_probs_test[1])"
   ]
  },
  {
   "cell_type": "code",
   "execution_count": null,
   "id": "433de6c4",
   "metadata": {},
   "outputs": [],
   "source": [
    "ds_winner_probs_test = ds_movie_test[:-8] + 'winner_probs_test.csv'"
   ]
  },
  {
   "cell_type": "code",
   "execution_count": null,
   "id": "64c0ef7a",
   "metadata": {},
   "outputs": [],
   "source": [
    "y_probs_test = np.genfromtxt(f'{rumwt_folder}/{ds_winner_probs_test}', delimiter=',')"
   ]
  },
  {
   "cell_type": "code",
   "execution_count": null,
   "id": "c817b070",
   "metadata": {},
   "outputs": [],
   "source": [
    "y_mnl_probs_test = clf.predict_proba(X_test)"
   ]
  },
  {
   "cell_type": "code",
   "execution_count": null,
   "id": "7a2bd7df",
   "metadata": {},
   "outputs": [],
   "source": [
    "l1 = np.linalg.norm(y_probs_test-y_mnl_probs_test,ord=1,axis=1)\n",
    "total_variation = np.amax(l1)\n",
    "mean_variation = np.mean(l1)\n",
    "median_variation = np.median(l1)\n",
    "print(total_variation)\n",
    "print(mean_variation)\n",
    "print(median_variation)"
   ]
  },
  {
   "cell_type": "code",
   "execution_count": null,
   "id": "0d6d05a5",
   "metadata": {},
   "outputs": [],
   "source": [
    "l1 = np.linalg.norm(y_probs_test-y_rumwt_probs_test,ord=1,axis=1)\n",
    "total_variation = np.amax(l1)\n",
    "mean_variation = np.mean(l1)\n",
    "median_variation = np.median(l1)\n",
    "print(total_variation)\n",
    "print(mean_variation)\n",
    "print(median_variation)"
   ]
  },
  {
   "cell_type": "code",
   "execution_count": null,
   "id": "cadc6e0c",
   "metadata": {},
   "outputs": [],
   "source": [
    "l1 = np.linalg.norm(y_probs_test-y_lp_rumwt_probs_test,ord=1,axis=1)\n",
    "total_variation = np.amax(l1)\n",
    "mean_variation = np.mean(l1)\n",
    "median_variation = np.median(l1)\n",
    "print(total_variation)\n",
    "print(mean_variation)\n",
    "print(median_variation)"
   ]
  },
  {
   "cell_type": "code",
   "execution_count": null,
   "id": "b33bcce2",
   "metadata": {
    "scrolled": true
   },
   "outputs": [],
   "source": [
    "kl = kl_div(y_probs_test, y_mnl_probs_test)\n",
    "total_ce = np.amax(kl)\n",
    "mean_ce = np.mean(kl)\n",
    "median_ce = np.median(kl)\n",
    "print(total_ce)\n",
    "print(mean_ce)\n",
    "print(median_ce)"
   ]
  },
  {
   "cell_type": "code",
   "execution_count": null,
   "id": "80dda4bf",
   "metadata": {},
   "outputs": [],
   "source": [
    "kl = kl_div(y_probs_test, y_rumwt_probs_test)\n",
    "total_ce = np.amax(kl)\n",
    "mean_ce = np.mean(kl)\n",
    "median_ce = np.median(kl)\n",
    "print(total_ce)\n",
    "print(mean_ce)\n",
    "print(median_ce)"
   ]
  },
  {
   "cell_type": "code",
   "execution_count": null,
   "id": "18b56cc9",
   "metadata": {},
   "outputs": [],
   "source": [
    "y_mnl_test = clf.predict(X_test)"
   ]
  },
  {
   "cell_type": "code",
   "execution_count": null,
   "id": "728bdde8",
   "metadata": {},
   "outputs": [],
   "source": [
    "accuracy_score(y_test, y_mnl_test)"
   ]
  },
  {
   "cell_type": "code",
   "execution_count": null,
   "id": "91d1c92b",
   "metadata": {
    "scrolled": true
   },
   "outputs": [],
   "source": [
    "accuracy_score(y_test, y_rumwt_test)"
   ]
  },
  {
   "cell_type": "code",
   "execution_count": null,
   "id": "aaaca883",
   "metadata": {},
   "outputs": [],
   "source": [
    "accuracy_score(y_test, y_lp_rumwt_test)"
   ]
  },
  {
   "cell_type": "code",
   "execution_count": null,
   "id": "72e1cd7a",
   "metadata": {},
   "outputs": [],
   "source": [
    "y_no_choice = np.max(y_test)*np.ones(y_test.shape)\n",
    "accuracy_score(y_test, y_no_choice)"
   ]
  },
  {
   "cell_type": "markdown",
   "id": "4c984302",
   "metadata": {},
   "source": [
    "#### Top-ranked item Accuracy"
   ]
  },
  {
   "cell_type": "code",
   "execution_count": null,
   "id": "17dc0a2d",
   "metadata": {},
   "outputs": [],
   "source": [
    "def cast_char(c):\n",
    "    if c == '-':\n",
    "        return 0\n",
    "    return float(c)"
   ]
  },
  {
   "cell_type": "code",
   "execution_count": null,
   "id": "8fec41b0",
   "metadata": {},
   "outputs": [],
   "source": [
    "def compute_accuracy(y_pred, y_test_scores, delta=0.25):\n",
    "    score = 0.0\n",
    "    for i in range(len(y_pred)):\n",
    "        top_index = np.argmax(y_pred[i][:-1])\n",
    "        if y_test_scores[i][top_index] > max(y_test_scores[i]) - delta:\n",
    "            score += 1\n",
    "    return score/len(y_pred)"
   ]
  },
  {
   "cell_type": "code",
   "execution_count": null,
   "id": "33f461db",
   "metadata": {},
   "outputs": [],
   "source": [
    "movie_test_scores_df = pd.read_csv(f\"{scores_folder}/{test_folder}/movies_20_17413_5_10000_test.csv\")\n",
    "# Look at the first 5 rows of the data\n",
    "movie_test_scores_df.head()"
   ]
  },
  {
   "cell_type": "code",
   "execution_count": null,
   "id": "01686a0b",
   "metadata": {},
   "outputs": [],
   "source": [
    "y_test_scores_str = movie_test_scores_df.to_numpy()\n",
    "y_test_scores = []\n",
    "for row in y_test_scores_str:\n",
    "    y_test_scores.append([cast_char(x) for x in row])\n",
    "print(y_test_scores[0])"
   ]
  },
  {
   "cell_type": "code",
   "execution_count": null,
   "id": "e4a60c3d",
   "metadata": {},
   "outputs": [],
   "source": [
    "compute_accuracy(y_mnl_probs_test, y_test_scores)"
   ]
  },
  {
   "cell_type": "code",
   "execution_count": null,
   "id": "2ea77e7b",
   "metadata": {},
   "outputs": [],
   "source": [
    "compute_accuracy(y_rumwt_probs_test, y_test_scores)"
   ]
  },
  {
   "cell_type": "code",
   "execution_count": null,
   "id": "02584c71",
   "metadata": {},
   "outputs": [],
   "source": [
    "compute_accuracy(y_lp_rumwt_probs_test, y_test_scores)"
   ]
  },
  {
   "cell_type": "code",
   "execution_count": null,
   "id": "833e616d",
   "metadata": {},
   "outputs": [],
   "source": [
    "compute_accuracy(y_probs_test, y_test_scores)"
   ]
  },
  {
   "cell_type": "code",
   "execution_count": null,
   "id": "256f9e2b",
   "metadata": {},
   "outputs": [],
   "source": [
    "import random\n",
    "\n",
    "len_slate = len(y_test_scores[0])\n",
    "random_baseline_score = 0\n",
    "for row in y_test_scores:\n",
    "    slate = [i for i in range(len_slate) if row[i] > 0]\n",
    "    if not slate:\n",
    "        slate = [0]\n",
    "    random_choice = random.choice(slate)\n",
    "    if row[random_choice] > max(row) - 0.25:\n",
    "        random_baseline_score += 1\n",
    "print(random_baseline_score/len(y_test_scores))"
   ]
  },
  {
   "cell_type": "markdown",
   "id": "0abbf71e",
   "metadata": {},
   "source": [
    "### (good)Books Dataset"
   ]
  },
  {
   "cell_type": "code",
   "execution_count": null,
   "id": "33d35643",
   "metadata": {},
   "outputs": [],
   "source": [
    "ds_book_train = \"books_30_47211_5_1000000_0.5_train.csv\""
   ]
  },
  {
   "cell_type": "code",
   "execution_count": null,
   "id": "b06a31df",
   "metadata": {},
   "outputs": [],
   "source": [
    "book_train_df = pd.read_csv(f\"{base_folder}/{train_folder}/{ds_book_train}\")\n",
    "# Look at the first 5 rows of the data\n",
    "book_train_df.head()"
   ]
  },
  {
   "cell_type": "code",
   "execution_count": null,
   "id": "480fb8f9",
   "metadata": {},
   "outputs": [],
   "source": [
    "items = book_train_df.columns.tolist()[1:-1]\n",
    "print(items)"
   ]
  },
  {
   "cell_type": "markdown",
   "id": "fcf0e470",
   "metadata": {},
   "source": [
    "#### Training"
   ]
  },
  {
   "cell_type": "code",
   "execution_count": null,
   "id": "7ab7a6b5",
   "metadata": {},
   "outputs": [],
   "source": [
    "X_train = book_train_df.iloc[:, 1:-1].to_numpy()\n",
    "y_train = book_train_df.iloc[:,-1].to_numpy()"
   ]
  },
  {
   "cell_type": "code",
   "execution_count": null,
   "id": "dfdc69ab",
   "metadata": {},
   "outputs": [],
   "source": [
    "X_train[0]"
   ]
  },
  {
   "cell_type": "code",
   "execution_count": null,
   "id": "11bc90b1",
   "metadata": {},
   "outputs": [],
   "source": [
    "y_train[:5]"
   ]
  },
  {
   "cell_type": "code",
   "execution_count": null,
   "id": "cdbb4ddf",
   "metadata": {},
   "outputs": [],
   "source": [
    "clf = LogisticRegression(multi_class='multinomial',solver='saga',max_iter=1000).fit(X_train,y_train)\n",
    "clf.predict(X_train[:5, :])"
   ]
  },
  {
   "cell_type": "code",
   "execution_count": null,
   "id": "16c1a31e",
   "metadata": {},
   "outputs": [],
   "source": [
    "clf.predict_proba(X_train[:5, :])"
   ]
  },
  {
   "cell_type": "code",
   "execution_count": null,
   "id": "221d308f",
   "metadata": {},
   "outputs": [],
   "source": [
    "clf.score(X_train,y_train)"
   ]
  },
  {
   "cell_type": "markdown",
   "id": "850e5500",
   "metadata": {},
   "source": [
    "#### Test"
   ]
  },
  {
   "cell_type": "code",
   "execution_count": null,
   "id": "9d1b5e37",
   "metadata": {},
   "outputs": [],
   "source": [
    "ds_book_test = \"books_30_4721_5_10000_0.5_test.csv\""
   ]
  },
  {
   "cell_type": "code",
   "execution_count": null,
   "id": "1141b839",
   "metadata": {},
   "outputs": [],
   "source": [
    "book_test_df = pd.read_csv(f\"{base_folder}/{test_folder}/{ds_book_test}\")\n",
    "# Look at the first 5 rows of the data\n",
    "book_test_df.head()"
   ]
  },
  {
   "cell_type": "code",
   "execution_count": null,
   "id": "a4975956",
   "metadata": {},
   "outputs": [],
   "source": [
    "X_test = book_test_df.iloc[:, 1:-1].to_numpy()\n",
    "y_test = book_test_df.iloc[:,-1].to_numpy()"
   ]
  },
  {
   "cell_type": "code",
   "execution_count": null,
   "id": "9fce9a01",
   "metadata": {},
   "outputs": [],
   "source": [
    "ds_winner_probs_train = ds_book_test[:-8] + 'winner_probs_train.csv'\n",
    "ds_winners_train = ds_book_test[:-8] + 'winners_train.csv'"
   ]
  },
  {
   "cell_type": "code",
   "execution_count": null,
   "id": "e5e587d6",
   "metadata": {},
   "outputs": [],
   "source": [
    "ds_winner_probs_lp_train = ds_young_test[:-8] + 'winner_probs_rumwt.csv'\n",
    "ds_winners_lp_train = ds_young_test[:-8] + 'winners_rumwt.csv'"
   ]
  },
  {
   "cell_type": "code",
   "execution_count": null,
   "id": "016b7185",
   "metadata": {},
   "outputs": [],
   "source": [
    "y_lp_rumwt_probs_test = np.genfromtxt(f'{lp_rumwt_folder}/{ds_winner_probs_lp_train}', delimiter=',')\n",
    "y_lp_rumwt_test = np.genfromtxt(f'{lp_rumwt_folder}/{ds_winners_lp_train}', delimiter=',')\n",
    "print(y_lp_rumwt_probs_test[1])"
   ]
  },
  {
   "cell_type": "code",
   "execution_count": null,
   "id": "40ae8afb",
   "metadata": {},
   "outputs": [],
   "source": [
    "y_rumwt_probs_test = np.genfromtxt(f'{rumwt_folder}/{ds_winner_probs_train}', delimiter=',')\n",
    "y_rumwt_test = np.genfromtxt(f'{rumwt_folder}/{ds_winners_train}', delimiter=',')"
   ]
  },
  {
   "cell_type": "code",
   "execution_count": null,
   "id": "9ae8c010",
   "metadata": {},
   "outputs": [],
   "source": [
    "ds_winner_probs_test = ds_book_test[:-8] + 'winner_probs_test.csv'"
   ]
  },
  {
   "cell_type": "code",
   "execution_count": null,
   "id": "54c2bba5",
   "metadata": {},
   "outputs": [],
   "source": [
    "y_probs_test = np.genfromtxt(f'{rumwt_folder}/{ds_winner_probs_test}', delimiter=',')"
   ]
  },
  {
   "cell_type": "code",
   "execution_count": null,
   "id": "cdad6656",
   "metadata": {},
   "outputs": [],
   "source": [
    "y_mnl_probs_test = clf.predict_proba(X_test)"
   ]
  },
  {
   "cell_type": "code",
   "execution_count": null,
   "id": "a91f0789",
   "metadata": {},
   "outputs": [],
   "source": [
    "l1 = np.linalg.norm(y_probs_test-y_mnl_probs_test,ord=1,axis=1)\n",
    "total_variation = np.amax(l1)\n",
    "mean_variation = np.mean(l1)\n",
    "median_variation = np.median(l1)\n",
    "print(total_variation)\n",
    "print(mean_variation)\n",
    "print(median_variation)"
   ]
  },
  {
   "cell_type": "code",
   "execution_count": null,
   "id": "86c5a3b2",
   "metadata": {},
   "outputs": [],
   "source": [
    "l1 = np.linalg.norm(y_probs_test-y_rumwt_probs_test,ord=1,axis=1)\n",
    "total_variation = np.amax(l1)\n",
    "mean_variation = np.mean(l1)\n",
    "median_variation = np.median(l1)\n",
    "print(total_variation)\n",
    "print(mean_variation)\n",
    "print(median_variation)"
   ]
  },
  {
   "cell_type": "code",
   "execution_count": null,
   "id": "c5eeeade",
   "metadata": {},
   "outputs": [],
   "source": [
    "l1 = np.linalg.norm(y_probs_test-y_lp_rumwt_probs_test,ord=1,axis=1)\n",
    "total_variation = np.amax(l1)\n",
    "mean_variation = np.mean(l1)\n",
    "median_variation = np.median(l1)\n",
    "print(total_variation)\n",
    "print(mean_variation)\n",
    "print(median_variation)"
   ]
  },
  {
   "cell_type": "code",
   "execution_count": null,
   "id": "e141d8c4",
   "metadata": {
    "scrolled": true
   },
   "outputs": [],
   "source": [
    "kl = kl_div(y_probs_test, y_mnl_probs_test)\n",
    "total_ce = np.amax(kl)\n",
    "mean_ce = np.mean(kl)\n",
    "median_ce = np.median(kl)\n",
    "print(total_ce)\n",
    "print(mean_ce)\n",
    "print(median_ce)"
   ]
  },
  {
   "cell_type": "code",
   "execution_count": null,
   "id": "a763fb87",
   "metadata": {},
   "outputs": [],
   "source": [
    "kl = kl_div(y_probs_test, y_rumwt_probs_test)\n",
    "total_ce = np.amax(kl)\n",
    "mean_ce = np.mean(kl)\n",
    "median_ce = np.median(kl)\n",
    "print(total_ce)\n",
    "print(mean_ce)\n",
    "print(median_ce)"
   ]
  },
  {
   "cell_type": "code",
   "execution_count": null,
   "id": "2a3f75c1",
   "metadata": {},
   "outputs": [],
   "source": [
    "kl = kl_div(y_probs_test, y_lp_rumwt_probs_test)\n",
    "total_ce = np.amax(kl)\n",
    "mean_ce = np.mean(kl)\n",
    "median_ce = np.median(kl)\n",
    "print(total_ce)\n",
    "print(mean_ce)\n",
    "print(median_ce)"
   ]
  },
  {
   "cell_type": "code",
   "execution_count": null,
   "id": "df7ffbdd",
   "metadata": {},
   "outputs": [],
   "source": [
    "y_mnl_test = clf.predict(X_test)"
   ]
  },
  {
   "cell_type": "code",
   "execution_count": null,
   "id": "2dbb0bb7",
   "metadata": {},
   "outputs": [],
   "source": [
    "accuracy_score(y_test, y_mnl_test)"
   ]
  },
  {
   "cell_type": "code",
   "execution_count": null,
   "id": "4554946a",
   "metadata": {
    "scrolled": true
   },
   "outputs": [],
   "source": [
    "accuracy_score(y_test, y_rumwt_test)"
   ]
  },
  {
   "cell_type": "code",
   "execution_count": null,
   "id": "156e45ff",
   "metadata": {},
   "outputs": [],
   "source": [
    "y_no_choice = np.max(y_test)*np.ones(y_test.shape)\n",
    "accuracy_score(y_test, y_no_choice)"
   ]
  },
  {
   "cell_type": "markdown",
   "id": "2da77072",
   "metadata": {},
   "source": [
    "#### Top-ranked item Accuracy"
   ]
  },
  {
   "cell_type": "code",
   "execution_count": null,
   "id": "cf522d62",
   "metadata": {},
   "outputs": [],
   "source": [
    "def cast_char(c):\n",
    "    if c == '-':\n",
    "        return 0\n",
    "    return float(c)"
   ]
  },
  {
   "cell_type": "code",
   "execution_count": null,
   "id": "b5f9da58",
   "metadata": {},
   "outputs": [],
   "source": [
    "def compute_accuracy(y_pred, y_test_scores, delta=0.5):\n",
    "    score = 0.0\n",
    "    for i in range(len(y_pred)):\n",
    "        top_index = np.argmax(y_pred[i][:-1])\n",
    "        if y_test_scores[i][top_index] > max(y_test_scores[i]) - delta:\n",
    "            score += 1\n",
    "    return score/len(y_pred)"
   ]
  },
  {
   "cell_type": "code",
   "execution_count": null,
   "id": "8166891d",
   "metadata": {},
   "outputs": [],
   "source": [
    "book_test_scores_df = pd.read_csv(f\"{scores_folder}/{test_folder}/books_30_4721_5_10000_test.csv\")\n",
    "# Look at the first 5 rows of the data\n",
    "book_test_scores_df.head()"
   ]
  },
  {
   "cell_type": "code",
   "execution_count": null,
   "id": "c40a1772",
   "metadata": {},
   "outputs": [],
   "source": [
    "y_test_scores_str = book_test_scores_df.to_numpy()\n",
    "y_test_scores = []\n",
    "for row in y_test_scores_str:\n",
    "    y_test_scores.append([cast_char(x) for x in row])\n",
    "print(y_test_scores[0])"
   ]
  },
  {
   "cell_type": "code",
   "execution_count": null,
   "id": "51e238b7",
   "metadata": {},
   "outputs": [],
   "source": [
    "compute_accuracy(y_mnl_probs_test, y_test_scores)"
   ]
  },
  {
   "cell_type": "code",
   "execution_count": null,
   "id": "91e17897",
   "metadata": {},
   "outputs": [],
   "source": [
    "compute_accuracy(y_rumwt_probs_test, y_test_scores)"
   ]
  },
  {
   "cell_type": "code",
   "execution_count": null,
   "id": "8ea4e77d",
   "metadata": {},
   "outputs": [],
   "source": [
    "compute_accuracy(y_lp_rumwt_probs_test, y_test_scores)"
   ]
  },
  {
   "cell_type": "code",
   "execution_count": null,
   "id": "8a79da0b",
   "metadata": {},
   "outputs": [],
   "source": [
    "compute_accuracy(y_probs_test, y_test_scores)"
   ]
  },
  {
   "cell_type": "code",
   "execution_count": null,
   "id": "ae47c822",
   "metadata": {},
   "outputs": [],
   "source": [
    "import random\n",
    "\n",
    "len_slate = len(y_test_scores[0])\n",
    "random_baseline_score = 0\n",
    "for row in y_test_scores:\n",
    "    slate = [i for i in range(len_slate) if row[i] > 0]\n",
    "    if not slate:\n",
    "        slate = [0]\n",
    "    random_choice = random.choice(slate)\n",
    "    if row[random_choice] > max(row) - 0.25:\n",
    "        random_baseline_score += 1\n",
    "print(random_baseline_score/len(y_test_scores))"
   ]
  },
  {
   "cell_type": "code",
   "execution_count": null,
   "id": "d0d0774d",
   "metadata": {},
   "outputs": [],
   "source": []
  }
 ],
 "metadata": {
  "kernelspec": {
   "display_name": "Python 3 (ipykernel)",
   "language": "python",
   "name": "python3"
  },
  "language_info": {
   "codemirror_mode": {
    "name": "ipython",
    "version": 3
   },
   "file_extension": ".py",
   "mimetype": "text/x-python",
   "name": "python",
   "nbconvert_exporter": "python",
   "pygments_lexer": "ipython3",
   "version": "3.9.13"
  }
 },
 "nbformat": 4,
 "nbformat_minor": 5
}
